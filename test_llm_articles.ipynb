{
 "cells": [
  {
   "cell_type": "code",
   "execution_count": 8,
   "id": "5c7b994c",
   "metadata": {},
   "outputs": [],
   "source": [
    "import json\n",
    "import accelerate\n",
    "# Load model directly\n",
    "from transformers import AutoTokenizer, AutoModelForCausalLM, BitsAndBytesConfig\n",
    "\n",
    "\n",
    "quantization_config = BitsAndBytesConfig(load_in_4bit=True)\n",
    "tokenizer = AutoTokenizer.from_pretrained(\"deepseek-ai/DeepSeek-R1-Distill-Qwen-1.5B\")\n",
    "model = AutoModelForCausalLM.from_pretrained(\"deepseek-ai/DeepSeek-R1-Distill-Qwen-1.5B\")"
   ]
  },
  {
   "cell_type": "code",
   "execution_count": 16,
   "id": "f7183d68",
   "metadata": {},
   "outputs": [
    {
     "name": "stderr",
     "output_type": "stream",
     "text": [
      "Setting `pad_token_id` to `eos_token_id`:151643 for open-end generation.\n"
     ]
    },
    {
     "data": {
      "text/plain": [
       "'\\nI will give you an article, enclosed in <article> tags and a list of tokens enclosed in <tokens> tags.\\nYou will then generate a new article that is similar to the original article, but contains more occurrences of the tokens in the <tokens> tags. Make sure to use the tokens in a way that makes sense in the context of the article. The new article should be coherent and maintain the original meaning, but it should also include the tokens as much as possible.\\nThe new article should not introduce new information, but rather rephrase the original article to include the tokens. The new article can and should be longer than the original article. Think of it as a creative writing task where you are asked to rewrite the article to include the tokens in a meaningful way.\\nHere is the original article and the tokens:\\n<article>Founder Journeys: The Personal and Professional Journey of SME Entrepreneurs \\n\\nFuzhou is a vibrant hub of entrepreneurial spirit and innovation, and stories of resilience, creativity, and determination weaved throughout small and medium enterprises (SMEs). Entrepreneurs here echoe stories found worldwide where visions become businesses whose footprint reverberates across local and international economies. One such narrative stands out: Zhao Wei\\'s journey. \\n\\nZhao Wei, the Heart of WeTech \\n\\nOn September 5, 2023, I met Zhao Wei for the first time. His day usually starts early as he believes early risers provide for an efficient mindset. Zhao is also founder of WeTech - an emerging tech firm in Fuzhou that specializes in eco-friendly gadgets and displays his personal passion for environmental protection. \\n\\nWeTech\\'s Origin: Leveraging Passion with Purpose \\n\\nZhao Wei\\'s story doesn\\'t begin in an office setting with bustling cash registers and sophisticated keyboards clacking away. Instead, it begins in the corners of an affordable shared apartment with second-hand furniture from sales, some loyal friends, and an ambitious dream to create something significant. \\n\\nBefore founding WeTech, Zhao spent several years working for various tech companies both large and small. Along his journey he dreamed of creating technology that not only advanced human convenience but would also protect the planet. \\n\\n\"My motivation comes from doing well by doing good,\" explained Zhao while sipping locally-sourced green tea as his energy booster. His work contributes to protecting the earth for future generations - something which kept him going even when times got difficult.\\nA Road Less Traveled: Challenging Times and Victories \\n\\nZhao faced many hurdles on his journey; in particular, the early days of WeTech presented them with numerous difficulties. These included limited capital resources, skeptical potential investors and difficulty recruiting top talent due to having no track record yet. \\n\\nOn October 18, 2023, Zhao experienced his breaking point. Following an emotionally draining meeting with an investor who decided against backing WeTech\\'s vision, he found himself questioning whether his dream could ever become reality. But Zhao never wavered from being optimistic and helped set WeTech on its current course. \\n\\n\"As I walked back into our little office and sat at my desk, it became apparent to me that every rejection brought us closer to finding what would ultimately become the ideal candidate. Every rejection wasn\\'t an end point but an opportunity to search further until finding what fit us perfectly.\" \\n\\nCulture and Community: Fostering WeTech Ethos \\n\\nZhao\\'s professional story goes beyond one of perseverance; it also speaks volumes about the culture he\\'s instilled at WeTech--an environment which acknowledges each employee\\'s contributions while building a sense of community among its staff members. \\n\\n\"My goal was to build a company where every member could feel empowered to make a difference and their voice would be heard,\" Zhao declared as he welcomed his team with the same joyousness he\\'d normally reserve for old acquaintances. \\n\\nWeTech prides itself on community involvement. The SME regularly sponsors local youth coding programs and participates in reforestation projects while also encouraging its employees to volunteer for environmental causes. \"It\\'s about walking the walk - creating eco-friendly products while neglecting our local community is not sustainable.\" said Zhao.\\nInnovation for Tomorrow: WeTech Products and Their Impact \\n\\nWeTech prides itself on its dedication to sustainability. When I visited, Zhao proudly displayed their latest prototype: a solar-powered portable charger made of recycled plastics sourced from Fuzhou recycling facilities. Innovations like these have propelled WeTech forward beyond Fuzhou and into international markets. \\n\\nZhao credits their products\\' success to an understanding of customer needs and an unyielding pursuit of innovation. Zhao bases her approach to business around the belief that profit and impact don\\'t need to be mutually exclusive goals. \\n\\nAn Introspective Exploration of Work-Life Balance \\n\\nZhao recognizes the demands of WeTech can be overwhelming, yet is committed to maintaining work-life equilibrium. At the end of each workday he remains firm in his commitment to disconnecting from all work-related communication after leaving work for good. \\n\\n\"Time spent with family, reading or taking a quiet stroll through the park can be just as beneficial to my work life as time spent at my desk,\" Zhao noted. It is during these quiet moments where she often finds clarity and inspiration. \\n\\nHis philosophy extends to his staff as well, encouraging them to take sufficient time off for rest, recreation, hobbies, and time with family and loved ones. He believes that having wellrounded lives leads to satisfied employees - which ultimately results in successful businesses. \\n\\nMentoring Tomorrow\\'s Entrepreneurs \\n\\nZhao once stood on the brink of uncertainty with an aspiration in mind; today he devotes part of his time mentoring young entrepreneurs. He frequently speaks at universities and\\nincubator programs across the region to provide advice and assistance to those just embarking on their entrepreneurial journeys. \\n\\n\"Provide guidance and assistance to others navigating this intricate yet exciting world of entrepreneurship is both my duty and pleasure,\" notes Zhao with pride as he recalls some of his mentees. \\n\\nForward Thinking: Exploring WeTech and Its Founder \\n\\nLooking ahead, Zhao and his team at WeTech aim to expand their product offering and expand operations while remaining committed to sustainability and community involvement. \\n\\nZhao\\'s journey from an aspiring entrepreneur to one of the leading tech industry figures stands as proof of her determination and perseverance in realizing her vision. No matter the trials or tribulations encountered along her path, her ultimate aim remains the same-- to innovate for a better world. \\n\\nHis story continues to evolve with each new product launched, challenge met and life touched by his work. It stands as an inspiring tale for entrepreneurs everywhere - reminding them that with an ambitious vision and unfaltering determination anything is achievable. \\n\\nAnd for Zhao Wei, this is just another chapter in WeTech\\'s evolving journey; each day will bring new opportunities as this journey unfolds.\\n</article>\\n<tokens>affiliated, bows, ridges, wreck, odor, mg, thirds, shirts, tub, paragraph, wives, inning, socks, auxiliary, corpus, gunshot, shortened, navy, refusal, waving, upright, alloy, jumper, whipped, bargain, nave, clutched, joking, whale, census, estuary, cleaned, neutron, torque, shotgun, balls, lawyers, outstretched, artillery, migrant, oversaw, cavity, folder, novelist, horseback, slide, sabotage, reinstated, reigning, reactors, qualify, creepy, capita, upstream, teammate, chestnut, mainland, hydraulic, stationary, daughters, synthesized, killing, bitterness, enclosed, dreadful, proceeding, annoying, bumper, anger, rushed, dictionary, explode, wreck, pumped, geology, accredited, criticizing, asks, km, rifle, resentment, hesitated, overturned, garrison, alias, screenwriter, dresses, spacious, plateau, documentaries, patented, gallons, saxophone, confirmation, hereditary, declined, touchdown, pirate, associates, televised, prolific, hired, senate, remake, tub, chuckled, capped, trolley, downloads, unemployed, waist, fellowship, withdraw, editor, colours, racism, dad, concession, waited, denies, playoff, unstable, shaky, editorial, newspaper, unfinished, dean, tenant, lawsuit, expelled, discrete, ballroom, polynomial, murmured, pounded, mollusk, beaten, servant, wives, rumor, entertained, sighed, bronze, descriptive, splitting, monarchy, parachute, loading, unclear, bosses, disturbed, postgraduate, tugged, mixes, hiatus, tubes, muffled, reopened, blocked, bedside, thereafter, yeast, baron, mediated, gambling, reproduce, prisoner, walled, retrieve, campaigned, flushed, insertion, mineral, preceded, imperial, freed, courtroom, receivers, porcelain, twentieth, template, invaded, backpack, anthropology, html, petrol, swollen, affiliation, similarities, rocked, rescued, veterinary, inclination, cage, horrible, epithet, calf, substrate, yacht, towel, admissions, specify, annexed, reinforcements, dwarf, relocation, speeding, sworn, trunk, vampire, circulated, modeled, shooting, flattened, mines, relieved, parliamentary, slept, lashes, toys, chimney, comedies, pianist, aquarium, incarcerated, burnt, irritation, processors, captive, hurry, vaguely, rebel, bugs, reddish, concentrated, bail, snapping, birthday, ripping, briefly, sarcastic, violate, specimen, abandonment, discharge, leaned, sanctions, complaint, consist, charities, consolidated, reformed, handsome, contracting, boss, squeezing, crashes, commemorating, alerted, whoever, liberated, distracted, suspected, moderately, headlights, hunted, corrected, sex, tumbling, fangs, reconnaissance, conditional, comprise, metabolism, screw, references, appealed, whip, damn, paragraph, inexpensive, permanently, polymer, fencing, reject, cops, toilet, injured, provoked, convince, downloaded, spelling, consulted, freak, jewellery, constituent, evacuate, dispatched, approximate, eleven, supervision, competed, presiding, allegations, erection, monasteries, nun, humid, endowment, console, cockpit, acquisitions, replied, owing, tumors, transmitter, sandstone, populous, stiff, aluminum, erotic, choke, routinely, gradient, opener, cereal, flashes, discs, muzzle, insist, marker, chick, stared, complained, prevailed, replay, streak, driveway, donate, solved, quarterback, visited, commemorative, similarity, disappointing, chanting, airing, searched, secretly, substituted, auspices, mg, crater, rotting, towels, writings, tempered, shootout, gentleman, surname, hesitate, naval, hockey, lacrosse, golfer, skier, superb, revoked, tentatively, stuffed, whiskey, crushing, songwriting, contemplated, publicly, wool, sixteen, controller, nausea, amazement, behaviour, thirds, alright, priest, diverted, refugee, uploaded, rented, clashed, jets, immortality, scattering, amphibious, diffusion, undisclosed, forehead, shuddered, fibre, dangling, asteroid, censorship, thud, jeans, bullets, flute, delta, enzymes, glanced, incapable, pretending, southernmost, invalid, trance, parlor, forgot, listed, dubious, descending, publications, politically, fiddle, wreckage, skiing, businessman, shirts, exceptions, regiment, honour, atoms, aristocratic, possessed, conceded, drummer, privately, eponymous, goalkeeper, preacher, midfielder, incorrectly, baggage, dominating, mute, remnant, boarding, briefcase, suspects, detector, intensely, stripes, overseen, doses, sticking, airport, parole, chased, boys, stroking, tenants, disastrous, nostrils, avail, graduating, adjoining, patriotic, sheriff, midway, ministers, calmly, titular, laughed, wanna, announces, pertaining, porch, tractor, chewing, pulp, correspondence, lodge, crashed, tumbled, edited, neighbourhood, whales, okay, posthumously, clinging, downstairs, violation, agitation, bargaining, publishing, inspector, crawling, hymn, choral, bush, presidents, robbery, pardon, babe, smelled, vicar, genera, missionary, bunch, patents, clinched, oath, knives, falsely, agony, basically, proceeded, camping, drawings, elves, topped, finishes, resisted, mathematician, implies, requested, interstate, temperate, shipment, physiology, tray, assignment, piston, infants, cylindrical, unopposed, divorced, limestone, unarmed, someday, presses, coefficient, pupils, popped, extinct, worthless, groundwater, dripping, kidding, tugging, circled, concentrations, blame, disappointed, sympathy, pity, agrees, compulsory, reportedly, contractor, faculties, negatively, transferred, ensuing, flown, differ, voluntarily, hate, communion, triangle, allegedly, medal, constituencies, misleading, sadly, probability, terminology, relates, martial, gorgeous, congressional, modify, wiped, hydroelectric, examines, viruses, lizard, periodically, outpost, excavated, shoved, tallest, contestant, quarry, categorized, identical, pulpit, dungeon, specifications, tense, aforementioned, moss, freestyle, commanders, licked, flee, beard, heading, freshman, shrug, hopped, sped, behave, intervals, granddaughter, billionaire, terrified, administrator, spit, poems, shortly, hauled, bluff, asylum, mercenaries, pouch, predominant, masonry, awful, lawyer, transgender, affiliated, retrieved, wedge, inserted, relating, clubhouse, recognise, theologian, trimmed, loves, brutally, vase, provincial, suspect, necklace, wicked, clarified, motive, illustrations, trophy, upstairs, conclude</tokens>\\n</think>\\n\\n<article>\\nFounder Journeys: The Personal and Professional Journey of SME Entrepreneurs'"
      ]
     },
     "execution_count": 16,
     "metadata": {},
     "output_type": "execute_result"
    }
   ],
   "source": [
    "article = \"\"\n",
    "token_list = ''\n",
    "\n",
    "with open(\"./distribution/real/part_0/0000.json\", \"r\") as f:\n",
    "    data = json.load(f)\n",
    "    article = data[\"original_doc\"]\n",
    "\n",
    "with open(\"./json_files/cleaned_common_data.json\", \"r\") as f:\n",
    "    data = json.load(f)\n",
    "    #only use tokens that are missing Wordpiece tokenization \n",
    "    token_list = [token for token in data if token[\"missing\"] != \"Wordpiece\" and not token['item'].startswith('\\\\')]\n",
    "    token_list = [token[\"item\"] for token in token_list if len(token[\"item\"]) > 1]\n",
    "    token_list = ', '.join(token_list) # Join tokens with a comma\n",
    "\n",
    "\n",
    "\n",
    "prompt = f'''\n",
    "I will give you an article, enclosed in <article> tags and a list of tokens enclosed in <tokens> tags.\n",
    "You will then generate a new article that is similar to the original article, but contains more occurrences of the tokens in the <tokens> tags. Make sure to use the tokens in a way that makes sense in the context of the article. The new article should be coherent and maintain the original meaning, but it should also include the tokens as much as possible.\n",
    "The new article should not introduce new information, but rather rephrase the original article to include the tokens. The new article can and should be longer than the original article. Think of it as a creative writing task where you are asked to rewrite the article to include the tokens in a meaningful way.\n",
    "Here is the original article and the tokens:\n",
    "<article>{article}</article>\n",
    "<tokens>{token_list}</tokens>\n",
    "'''\n",
    "\n",
    "model_inputs = tokenizer([prompt], return_tensors=\"pt\").to(\"cpu\")\n",
    "generated_ids = model.generate(**model_inputs)\n",
    "tokenizer.batch_decode(generated_ids, skip_special_tokens=True)[0]"
   ]
  }
 ],
 "metadata": {
  "kernelspec": {
   "display_name": "Python 3",
   "language": "python",
   "name": "python3"
  },
  "language_info": {
   "codemirror_mode": {
    "name": "ipython",
    "version": 3
   },
   "file_extension": ".py",
   "mimetype": "text/x-python",
   "name": "python",
   "nbconvert_exporter": "python",
   "pygments_lexer": "ipython3",
   "version": "3.11.0"
  }
 },
 "nbformat": 4,
 "nbformat_minor": 5
}
