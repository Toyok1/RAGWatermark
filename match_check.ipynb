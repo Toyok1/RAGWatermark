{
 "cells": [
  {
   "cell_type": "code",
   "execution_count": null,
   "id": "9de754a7",
   "metadata": {},
   "outputs": [],
   "source": [
    "#from 3 json files, save into another only the data that is in all 3\n",
    "import json\n",
    "def main():\n",
    "    with open('./json_files/hapaxes_BPE.json', 'r') as f:\n",
    "        data1 = json.load(f)\n",
    "    with open('./json_files/hapaxes_Unigram_512maxlength.json', 'r') as f:\n",
    "        data2 = json.load(f)\n",
    "    with open('./json_files/hapaxes_Wordpiece.json', 'r') as f:\n",
    "        data3 = json.load(f)\n",
    "\n",
    "    common_data = [item for item in data1 if item in data2 and item in data3]\n",
    "\n",
    "    with open('./json_files/common_data.json', 'w') as f:\n",
    "        json.dump(common_data, f, indent=4)"
   ]
  },
  {
   "cell_type": "code",
   "execution_count": null,
   "id": "78fa5d0b",
   "metadata": {},
   "outputs": [],
   "source": [
    "#from 3 json files, save into another json file data from at least 2 of them, specifing which ones\n",
    "def main_at_least_two():\n",
    "    with open('./json_files/hapaxes_BPE.json', 'r') as f:\n",
    "        data1 = json.load(f)\n",
    "    with open('./json_files/hapaxes_Unigram_512maxlength.json', 'r') as f:\n",
    "        data2 = json.load(f)\n",
    "    with open('./json_files/hapaxes_Wordpiece.json', 'r') as f:\n",
    "        data3 = json.load(f)\n",
    "\n",
    "    common_data = []\n",
    "    for item in data1:\n",
    "        if item in data2:\n",
    "            if item in data3:\n",
    "                common_data.append({'item': item, 'missing': 'None'})\n",
    "            else:\n",
    "                common_data.append({'item': item, 'missing': 'Wordpiece'})\n",
    "        elif item in data3:\n",
    "            common_data.append({'item': item, 'missing': 'Unigram'})\n",
    "\n",
    "    for item in data2:\n",
    "        if item in data3 and item not in common_data:\n",
    "            common_data.append({'item': item, 'missing': 'BPE'})\n",
    "\n",
    "    print(f\"Total common items from at least two files: {len(common_data)}\")\n",
    "\n",
    "    with open('./json_files/common_data_at_least_two.json', 'w') as f:\n",
    "        json.dump(common_data, f, indent=4)"
   ]
  },
  {
   "cell_type": "code",
   "execution_count": 2,
   "id": "284339bb",
   "metadata": {},
   "outputs": [],
   "source": [
    "if __name__ == \"__main__\":\n",
    "    main()"
   ]
  },
  {
   "cell_type": "code",
   "execution_count": 17,
   "id": "b29ae44a",
   "metadata": {},
   "outputs": [
    {
     "name": "stdout",
     "output_type": "stream",
     "text": [
      "Total common items from at least two files: 760\n"
     ]
    }
   ],
   "source": [
    "if __name__ == \"__main__\":\n",
    "    main_at_least_two()"
   ]
  },
  {
   "cell_type": "code",
   "execution_count": 4,
   "id": "4cf250f5",
   "metadata": {},
   "outputs": [],
   "source": [
    "def clean_numbers():\n",
    "    #remove all items from common_data_at_least_two.json where 'item' is a number\n",
    "    with open('common_data_at_least_two.json', 'r') as f:\n",
    "        data = json.load(f)\n",
    "    cleaned_data = [item for item in data if not item['item'].isdigit()]\n",
    "    with open('cleaned_common_data.json', 'w') as f:\n",
    "        json.dump(cleaned_data, f, indent=4)\n",
    "    \n",
    "    \n",
    "clean_numbers()"
   ]
  }
 ],
 "metadata": {
  "kernelspec": {
   "display_name": "Python 3",
   "language": "python",
   "name": "python3"
  },
  "language_info": {
   "codemirror_mode": {
    "name": "ipython",
    "version": 3
   },
   "file_extension": ".py",
   "mimetype": "text/x-python",
   "name": "python",
   "nbconvert_exporter": "python",
   "pygments_lexer": "ipython3",
   "version": "3.11.0"
  }
 },
 "nbformat": 4,
 "nbformat_minor": 5
}
