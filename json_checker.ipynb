{
 "cells": [
  {
   "cell_type": "code",
   "execution_count": 1,
   "id": "4d95d008",
   "metadata": {},
   "outputs": [],
   "source": [
    "#from a json file, create another that stores only the data with a value of 1\n",
    "import json\n",
    "def filter_json(input_file, output_file):\n",
    "    with open(input_file, 'r') as infile:\n",
    "        data = json.load(infile)\n",
    "\n",
    "    filtered_data = {k: v for k, v in data.items() if v == 1}\n",
    "\n",
    "    with open(output_file, 'w') as outfile:\n",
    "        json.dump(filtered_data, outfile, indent=4)"
   ]
  },
  {
   "cell_type": "code",
   "execution_count": null,
   "id": "caf8b883",
   "metadata": {},
   "outputs": [],
   "source": [
    "input_file = './json_files/token_distribution_Wordpiece.json'  # Replace with your input file name\n",
    "output_file = './json_files/hapaxes_Wordpiece.json'  # Replace with your desired output file name\n",
    "filter_json(input_file, output_file)"
   ]
  }
 ],
 "metadata": {
  "kernelspec": {
   "display_name": "Python 3",
   "language": "python",
   "name": "python3"
  },
  "language_info": {
   "codemirror_mode": {
    "name": "ipython",
    "version": 3
   },
   "file_extension": ".py",
   "mimetype": "text/x-python",
   "name": "python",
   "nbconvert_exporter": "python",
   "pygments_lexer": "ipython3",
   "version": "3.11.0"
  }
 },
 "nbformat": 4,
 "nbformat_minor": 5
}
